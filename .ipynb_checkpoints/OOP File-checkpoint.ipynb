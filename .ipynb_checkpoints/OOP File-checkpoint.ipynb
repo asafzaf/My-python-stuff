{
 "cells": [
  {
   "cell_type": "code",
   "execution_count": 7,
   "id": "d38c134b",
   "metadata": {},
   "outputs": [],
   "source": [
    "class Dog():\n",
    "    \n",
    "    def __init__(self,food,size,color,bulk):\n",
    "        self.food = food\n",
    "        self.size = size\n",
    "        self.color = color\n",
    "        self.bulk = bulk\n",
    "        \n",
    "    def feed(self):\n",
    "        print(\"very tasty :)\")"
   ]
  },
  {
   "cell_type": "code",
   "execution_count": 9,
   "id": "98c15088",
   "metadata": {},
   "outputs": [],
   "source": [
    "new_dog = Dog('Fish', 'Big', 'Brown', True)"
   ]
  },
  {
   "cell_type": "code",
   "execution_count": 3,
   "id": "82178aa0",
   "metadata": {
    "scrolled": true
   },
   "outputs": [
    {
     "data": {
      "text/plain": [
       "'Fish'"
      ]
     },
     "execution_count": 3,
     "metadata": {},
     "output_type": "execute_result"
    }
   ],
   "source": [
    "new_dog.food"
   ]
  },
  {
   "cell_type": "code",
   "execution_count": 4,
   "id": "a1d41ed1",
   "metadata": {},
   "outputs": [
    {
     "data": {
      "text/plain": [
       "'Big'"
      ]
     },
     "execution_count": 4,
     "metadata": {},
     "output_type": "execute_result"
    }
   ],
   "source": [
    "new_dog.size"
   ]
  },
  {
   "cell_type": "code",
   "execution_count": 5,
   "id": "0a847c33",
   "metadata": {},
   "outputs": [
    {
     "data": {
      "text/plain": [
       "'Brown'"
      ]
     },
     "execution_count": 5,
     "metadata": {},
     "output_type": "execute_result"
    }
   ],
   "source": [
    "new_dog.color"
   ]
  },
  {
   "cell_type": "code",
   "execution_count": 10,
   "id": "9f985f86",
   "metadata": {},
   "outputs": [
    {
     "name": "stdout",
     "output_type": "stream",
     "text": [
      "very tasty :)\n"
     ]
    }
   ],
   "source": [
    "new_dog.feed()"
   ]
  },
  {
   "cell_type": "code",
   "execution_count": 24,
   "id": "c32f900c",
   "metadata": {},
   "outputs": [],
   "source": [
    "class Circle():\n",
    "    pi = 3.14\n",
    "    def __init__(self,radius=1):\n",
    "        self.radius = radius\n",
    "        self.area = radius*radius*Circle.pi\n",
    "        \n",
    "    def getcircumference(self):\n",
    "        return self.radius * Circle.pi * 2"
   ]
  },
  {
   "cell_type": "code",
   "execution_count": 25,
   "id": "47dbc332",
   "metadata": {},
   "outputs": [],
   "source": [
    "new_circle = Circle()"
   ]
  },
  {
   "cell_type": "code",
   "execution_count": 13,
   "id": "bc3a2bdb",
   "metadata": {},
   "outputs": [
    {
     "data": {
      "text/plain": [
       "1"
      ]
     },
     "execution_count": 13,
     "metadata": {},
     "output_type": "execute_result"
    }
   ],
   "source": [
    "new_circle.radius"
   ]
  },
  {
   "cell_type": "code",
   "execution_count": 29,
   "id": "791ccf8a",
   "metadata": {},
   "outputs": [],
   "source": [
    "new_circle.radius = 15"
   ]
  },
  {
   "cell_type": "code",
   "execution_count": 30,
   "id": "8970af3a",
   "metadata": {},
   "outputs": [
    {
     "data": {
      "text/plain": [
       "15"
      ]
     },
     "execution_count": 30,
     "metadata": {},
     "output_type": "execute_result"
    }
   ],
   "source": [
    "new_circle.radius"
   ]
  },
  {
   "cell_type": "code",
   "execution_count": 16,
   "id": "dd55b35d",
   "metadata": {},
   "outputs": [
    {
     "data": {
      "text/plain": [
       "<__main__.Circle at 0x1fd2100a790>"
      ]
     },
     "execution_count": 16,
     "metadata": {},
     "output_type": "execute_result"
    }
   ],
   "source": [
    "new_circle"
   ]
  },
  {
   "cell_type": "code",
   "execution_count": 27,
   "id": "cc72e90c",
   "metadata": {},
   "outputs": [
    {
     "data": {
      "text/plain": [
       "94.2"
      ]
     },
     "execution_count": 27,
     "metadata": {},
     "output_type": "execute_result"
    }
   ],
   "source": [
    "new_circle.getcircumference()"
   ]
  },
  {
   "cell_type": "code",
   "execution_count": 31,
   "id": "ce720f4c",
   "metadata": {},
   "outputs": [
    {
     "data": {
      "text/plain": [
       "3.14"
      ]
     },
     "execution_count": 31,
     "metadata": {},
     "output_type": "execute_result"
    }
   ],
   "source": [
    "new_circle.area"
   ]
  },
  {
   "cell_type": "code",
   "execution_count": 32,
   "id": "3f927009",
   "metadata": {},
   "outputs": [],
   "source": [
    "circ = Circle(15)"
   ]
  },
  {
   "cell_type": "code",
   "execution_count": 33,
   "id": "44c1c847",
   "metadata": {},
   "outputs": [
    {
     "data": {
      "text/plain": [
       "15"
      ]
     },
     "execution_count": 33,
     "metadata": {},
     "output_type": "execute_result"
    }
   ],
   "source": [
    "circ.radius"
   ]
  },
  {
   "cell_type": "code",
   "execution_count": 34,
   "id": "3c538d9d",
   "metadata": {},
   "outputs": [
    {
     "data": {
      "text/plain": [
       "94.2"
      ]
     },
     "execution_count": 34,
     "metadata": {},
     "output_type": "execute_result"
    }
   ],
   "source": [
    "circ.getcircumference()"
   ]
  },
  {
   "cell_type": "code",
   "execution_count": 35,
   "id": "a4ed7962",
   "metadata": {},
   "outputs": [
    {
     "data": {
      "text/plain": [
       "706.5"
      ]
     },
     "execution_count": 35,
     "metadata": {},
     "output_type": "execute_result"
    }
   ],
   "source": [
    "circ.area"
   ]
  },
  {
   "cell_type": "code",
   "execution_count": null,
   "id": "87b6ed48",
   "metadata": {},
   "outputs": [],
   "source": []
  }
 ],
 "metadata": {
  "kernelspec": {
   "display_name": "Python 3 (ipykernel)",
   "language": "python",
   "name": "python3"
  },
  "language_info": {
   "codemirror_mode": {
    "name": "ipython",
    "version": 3
   },
   "file_extension": ".py",
   "mimetype": "text/x-python",
   "name": "python",
   "nbconvert_exporter": "python",
   "pygments_lexer": "ipython3",
   "version": "3.11.5"
  }
 },
 "nbformat": 4,
 "nbformat_minor": 5
}
