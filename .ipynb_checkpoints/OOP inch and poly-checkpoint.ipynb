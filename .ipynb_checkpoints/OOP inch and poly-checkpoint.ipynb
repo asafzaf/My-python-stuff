{
 "cells": [
  {
   "cell_type": "code",
   "execution_count": 3,
   "id": "fe00b9b9",
   "metadata": {},
   "outputs": [],
   "source": [
    "class Animal():\n",
    "    def __init__(self):\n",
    "        print(\"ANIMAL CREATED\")\n",
    "    def who_am_i(self):\n",
    "        print(\"I am an Animal\")\n",
    "    def eat(self):\n",
    "        print(\"yamii\")"
   ]
  },
  {
   "cell_type": "code",
   "execution_count": 5,
   "id": "c18ceaf4",
   "metadata": {},
   "outputs": [
    {
     "name": "stdout",
     "output_type": "stream",
     "text": [
      "ANIMAL CREATED\n"
     ]
    }
   ],
   "source": [
    "animal = Animal()"
   ]
  },
  {
   "cell_type": "code",
   "execution_count": 6,
   "id": "9881a69c",
   "metadata": {},
   "outputs": [],
   "source": [
    "class Dog(Animal):\n",
    "    def __init__(self):\n",
    "        Animal.__init__(self)\n",
    "        print(\"DOG CREATED\")\n",
    "    def who_am_i(self):\n",
    "        print(\"I am a Dog!\")\n",
    "    def bark(self):\n",
    "        print(\"WOOF!\")"
   ]
  },
  {
   "cell_type": "code",
   "execution_count": 7,
   "id": "47970bb9",
   "metadata": {},
   "outputs": [
    {
     "name": "stdout",
     "output_type": "stream",
     "text": [
      "ANIMAL CREATED\n",
      "DOG CREATED\n"
     ]
    }
   ],
   "source": [
    "dog = Dog()"
   ]
  },
  {
   "cell_type": "code",
   "execution_count": 8,
   "id": "b852e55a",
   "metadata": {},
   "outputs": [
    {
     "name": "stdout",
     "output_type": "stream",
     "text": [
      "I am an Animal\n"
     ]
    }
   ],
   "source": [
    "animal.who_am_i()"
   ]
  },
  {
   "cell_type": "code",
   "execution_count": 9,
   "id": "4792faaa",
   "metadata": {},
   "outputs": [
    {
     "name": "stdout",
     "output_type": "stream",
     "text": [
      "I am a Dog!\n"
     ]
    }
   ],
   "source": [
    "dog.who_am_i()"
   ]
  },
  {
   "cell_type": "code",
   "execution_count": 12,
   "id": "b2b4902a",
   "metadata": {},
   "outputs": [
    {
     "name": "stdout",
     "output_type": "stream",
     "text": [
      "WOOF!\n"
     ]
    }
   ],
   "source": [
    "dog.bark()"
   ]
  },
  {
   "cell_type": "code",
   "execution_count": 16,
   "id": "ba499e6b",
   "metadata": {},
   "outputs": [],
   "source": [
    "class Animal():\n",
    "    def __init__(self, name):\n",
    "        self.name = name\n",
    "        print(\"ANIMAL CREATED\")\n",
    "    def speak(self):\n",
    "        raise NotImplementedError(\"Subclassmust implement this abstract method\")"
   ]
  },
  {
   "cell_type": "code",
   "execution_count": 14,
   "id": "d3158237",
   "metadata": {},
   "outputs": [
    {
     "name": "stdout",
     "output_type": "stream",
     "text": [
      "ANIMAL CREATED\n"
     ]
    }
   ],
   "source": [
    "myanimal = Animal()"
   ]
  },
  {
   "cell_type": "code",
   "execution_count": 15,
   "id": "e102812f",
   "metadata": {},
   "outputs": [
    {
     "ename": "NotImplementedError",
     "evalue": "Subclassmust implement this abstract method",
     "output_type": "error",
     "traceback": [
      "\u001b[1;31m---------------------------------------------------------------------------\u001b[0m",
      "\u001b[1;31mNotImplementedError\u001b[0m                       Traceback (most recent call last)",
      "Cell \u001b[1;32mIn[15], line 1\u001b[0m\n\u001b[1;32m----> 1\u001b[0m myanimal\u001b[38;5;241m.\u001b[39mspeak()\n",
      "Cell \u001b[1;32mIn[13], line 5\u001b[0m, in \u001b[0;36mAnimal.speak\u001b[1;34m(self)\u001b[0m\n\u001b[0;32m      4\u001b[0m \u001b[38;5;28;01mdef\u001b[39;00m \u001b[38;5;21mspeak\u001b[39m(\u001b[38;5;28mself\u001b[39m):\n\u001b[1;32m----> 5\u001b[0m     \u001b[38;5;28;01mraise\u001b[39;00m \u001b[38;5;167;01mNotImplementedError\u001b[39;00m(\u001b[38;5;124m\"\u001b[39m\u001b[38;5;124mSubclassmust implement this abstract method\u001b[39m\u001b[38;5;124m\"\u001b[39m)\n",
      "\u001b[1;31mNotImplementedError\u001b[0m: Subclassmust implement this abstract method"
     ]
    }
   ],
   "source": [
    "myanimal.speak()"
   ]
  },
  {
   "cell_type": "code",
   "execution_count": 17,
   "id": "9ba4245c",
   "metadata": {},
   "outputs": [],
   "source": [
    "class Dog(Animal):\n",
    "    def speak(self):\n",
    "        return self.name+ ' says woof!'"
   ]
  },
  {
   "cell_type": "code",
   "execution_count": 18,
   "id": "d9daa563",
   "metadata": {},
   "outputs": [],
   "source": [
    "class Cat(Animal):\n",
    "    def speak(self):\n",
    "        return self.name+ ' says meow!'"
   ]
  },
  {
   "cell_type": "code",
   "execution_count": 19,
   "id": "27a9f9a3",
   "metadata": {},
   "outputs": [
    {
     "name": "stdout",
     "output_type": "stream",
     "text": [
      "ANIMAL CREATED\n"
     ]
    }
   ],
   "source": [
    "fido = Dog('fido')"
   ]
  },
  {
   "cell_type": "code",
   "execution_count": 20,
   "id": "5e4db246",
   "metadata": {},
   "outputs": [
    {
     "name": "stdout",
     "output_type": "stream",
     "text": [
      "ANIMAL CREATED\n"
     ]
    }
   ],
   "source": [
    "iris = Cat('iris')"
   ]
  },
  {
   "cell_type": "code",
   "execution_count": 21,
   "id": "5894b9eb",
   "metadata": {},
   "outputs": [
    {
     "name": "stdout",
     "output_type": "stream",
     "text": [
      "fido says woof!\n",
      "iris says meow!\n"
     ]
    }
   ],
   "source": [
    "for pet in [fido, iris]:\n",
    "    print(pet.speak())"
   ]
  },
  {
   "cell_type": "code",
   "execution_count": 22,
   "id": "8b5a6e20",
   "metadata": {},
   "outputs": [],
   "source": [
    "class Book():\n",
    "    def __init__(self,title,author,pages):\n",
    "        self.title = title\n",
    "        self.author = author\n",
    "        self.pages = pages\n",
    "    def __str__(self):\n",
    "        return f'{self.title} by {self.author}'\n",
    "    def __len__(self):\n",
    "        return self.pages"
   ]
  },
  {
   "cell_type": "code",
   "execution_count": 23,
   "id": "e7422b57",
   "metadata": {},
   "outputs": [],
   "source": [
    "book1 = Book('1984', 'asaf', 184)"
   ]
  },
  {
   "cell_type": "code",
   "execution_count": 24,
   "id": "c19e63a2",
   "metadata": {},
   "outputs": [
    {
     "data": {
      "text/plain": [
       "'1984'"
      ]
     },
     "execution_count": 24,
     "metadata": {},
     "output_type": "execute_result"
    }
   ],
   "source": [
    "book1.title"
   ]
  },
  {
   "cell_type": "code",
   "execution_count": 25,
   "id": "1fa5071c",
   "metadata": {},
   "outputs": [
    {
     "data": {
      "text/plain": [
       "'asaf'"
      ]
     },
     "execution_count": 25,
     "metadata": {},
     "output_type": "execute_result"
    }
   ],
   "source": [
    "book1.author"
   ]
  },
  {
   "cell_type": "code",
   "execution_count": 26,
   "id": "14f4603d",
   "metadata": {},
   "outputs": [
    {
     "data": {
      "text/plain": [
       "184"
      ]
     },
     "execution_count": 26,
     "metadata": {},
     "output_type": "execute_result"
    }
   ],
   "source": [
    "book1.pages"
   ]
  },
  {
   "cell_type": "code",
   "execution_count": 27,
   "id": "067e94b4",
   "metadata": {},
   "outputs": [
    {
     "data": {
      "text/plain": [
       "'1984 by asaf'"
      ]
     },
     "execution_count": 27,
     "metadata": {},
     "output_type": "execute_result"
    }
   ],
   "source": [
    "str(book1)"
   ]
  },
  {
   "cell_type": "code",
   "execution_count": 28,
   "id": "e390883d",
   "metadata": {},
   "outputs": [
    {
     "data": {
      "text/plain": [
       "184"
      ]
     },
     "execution_count": 28,
     "metadata": {},
     "output_type": "execute_result"
    }
   ],
   "source": [
    "len(book1)"
   ]
  },
  {
   "cell_type": "code",
   "execution_count": 29,
   "id": "82f76f09",
   "metadata": {},
   "outputs": [
    {
     "data": {
      "text/plain": [
       "<__main__.Book at 0x20067fe6110>"
      ]
     },
     "execution_count": 29,
     "metadata": {},
     "output_type": "execute_result"
    }
   ],
   "source": [
    "book1"
   ]
  },
  {
   "cell_type": "code",
   "execution_count": 30,
   "id": "963f862b",
   "metadata": {},
   "outputs": [],
   "source": [
    "del book1"
   ]
  },
  {
   "cell_type": "code",
   "execution_count": 31,
   "id": "d9382770",
   "metadata": {},
   "outputs": [
    {
     "ename": "NameError",
     "evalue": "name 'book1' is not defined",
     "output_type": "error",
     "traceback": [
      "\u001b[1;31m---------------------------------------------------------------------------\u001b[0m",
      "\u001b[1;31mNameError\u001b[0m                                 Traceback (most recent call last)",
      "Cell \u001b[1;32mIn[31], line 1\u001b[0m\n\u001b[1;32m----> 1\u001b[0m book1\n",
      "\u001b[1;31mNameError\u001b[0m: name 'book1' is not defined"
     ]
    }
   ],
   "source": [
    "book1"
   ]
  },
  {
   "cell_type": "code",
   "execution_count": 32,
   "id": "79536188",
   "metadata": {},
   "outputs": [],
   "source": [
    "class Book():\n",
    "    def __init__(self,title,author,pages):\n",
    "        self.title = title\n",
    "        self.author = author\n",
    "        self.pages = pages\n",
    "    def __str__(self):\n",
    "        return f'{self.title} by {self.author}'\n",
    "    def __len__(self):\n",
    "        return self.pages\n",
    "    def __del__(self):\n",
    "        print('A book object has deleted!')"
   ]
  },
  {
   "cell_type": "code",
   "execution_count": 33,
   "id": "a69e0ac0",
   "metadata": {},
   "outputs": [],
   "source": [
    "book1 = Book('1984', 'asaf', 184)"
   ]
  },
  {
   "cell_type": "code",
   "execution_count": 34,
   "id": "d0f9e15d",
   "metadata": {},
   "outputs": [
    {
     "name": "stdout",
     "output_type": "stream",
     "text": [
      "A book object has deleted!\n"
     ]
    }
   ],
   "source": [
    "del book1"
   ]
  },
  {
   "cell_type": "code",
   "execution_count": null,
   "id": "523b5621",
   "metadata": {},
   "outputs": [],
   "source": []
  }
 ],
 "metadata": {
  "kernelspec": {
   "display_name": "Python 3 (ipykernel)",
   "language": "python",
   "name": "python3"
  },
  "language_info": {
   "codemirror_mode": {
    "name": "ipython",
    "version": 3
   },
   "file_extension": ".py",
   "mimetype": "text/x-python",
   "name": "python",
   "nbconvert_exporter": "python",
   "pygments_lexer": "ipython3",
   "version": "3.11.5"
  }
 },
 "nbformat": 4,
 "nbformat_minor": 5
}
