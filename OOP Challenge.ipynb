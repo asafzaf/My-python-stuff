{
 "cells": [
  {
   "cell_type": "code",
   "execution_count": 14,
   "id": "cc7e017b",
   "metadata": {},
   "outputs": [],
   "source": [
    "class Bank:\n",
    "    def __init__(self,owner,balance=0):\n",
    "        self.owner = owner\n",
    "        self.balance = balance\n",
    "        print(f'Account created! owner: {self.owner}, balance: {self.balance}')\n",
    "    def __str__(self):\n",
    "        return f'Hello {self.owner}! Your accaount balance is: {self.balance}'\n",
    "    def deposit(self,amount):\n",
    "        self.balance += amount\n",
    "        print(f'Amount deposit! Your balance is: {self.balance}')\n",
    "    def withdraw(self, amount):\n",
    "        if self.balance < amount:\n",
    "            print('You don\\'t have that amount! please try again...')\n",
    "        else:\n",
    "            self.balance -= amount\n",
    "            print(f'Amount writhdraw! amount: {amount} , now you have: {self.balance} ')"
   ]
  },
  {
   "cell_type": "code",
   "execution_count": 15,
   "id": "88110ea4",
   "metadata": {},
   "outputs": [
    {
     "name": "stdout",
     "output_type": "stream",
     "text": [
      "Account created! owner: asaf, balance: 0\n"
     ]
    }
   ],
   "source": [
    "acc1 = Bank('asaf')"
   ]
  },
  {
   "cell_type": "code",
   "execution_count": 3,
   "id": "a8ab8e36",
   "metadata": {},
   "outputs": [
    {
     "name": "stdout",
     "output_type": "stream",
     "text": [
      "Account created! owner: asi, balance: 100\n"
     ]
    }
   ],
   "source": [
    "acc2 = Bank('asi', 100)"
   ]
  },
  {
   "cell_type": "code",
   "execution_count": 4,
   "id": "86a03093",
   "metadata": {},
   "outputs": [
    {
     "name": "stdout",
     "output_type": "stream",
     "text": [
      "Amount writhdraw! amount: 50 , now you have: 50 \n"
     ]
    }
   ],
   "source": [
    "acc2.withdraw(50)"
   ]
  },
  {
   "cell_type": "code",
   "execution_count": 5,
   "id": "ae6acfa2",
   "metadata": {},
   "outputs": [
    {
     "name": "stdout",
     "output_type": "stream",
     "text": [
      "You don't have that amount! please try again...\n"
     ]
    }
   ],
   "source": [
    "acc1.withdraw(10)"
   ]
  },
  {
   "cell_type": "code",
   "execution_count": 6,
   "id": "f60599ef",
   "metadata": {},
   "outputs": [
    {
     "data": {
      "text/plain": [
       "<__main__.Bank at 0x2af14fb0350>"
      ]
     },
     "execution_count": 6,
     "metadata": {},
     "output_type": "execute_result"
    }
   ],
   "source": [
    "acc1"
   ]
  },
  {
   "cell_type": "code",
   "execution_count": 7,
   "id": "565722b2",
   "metadata": {},
   "outputs": [
    {
     "name": "stdout",
     "output_type": "stream",
     "text": [
      "<__main__.Bank object at 0x000002AF14FF1890>\n"
     ]
    }
   ],
   "source": [
    "print(acc2)"
   ]
  },
  {
   "cell_type": "code",
   "execution_count": 16,
   "id": "5ed2fd1a",
   "metadata": {},
   "outputs": [
    {
     "name": "stdout",
     "output_type": "stream",
     "text": [
      "Amount deposit! Your balance is: 100\n"
     ]
    }
   ],
   "source": [
    "acc1.deposit(100)"
   ]
  },
  {
   "cell_type": "code",
   "execution_count": 9,
   "id": "14bc8f3c",
   "metadata": {},
   "outputs": [
    {
     "name": "stdout",
     "output_type": "stream",
     "text": [
      "Amount deposit! Your balance is: 150\n"
     ]
    }
   ],
   "source": [
    "acc1.deposit(50)"
   ]
  },
  {
   "cell_type": "code",
   "execution_count": 12,
   "id": "a3dfb6ad",
   "metadata": {},
   "outputs": [
    {
     "data": {
      "text/plain": [
       "<__main__.Bank at 0x2af14f78210>"
      ]
     },
     "execution_count": 12,
     "metadata": {},
     "output_type": "execute_result"
    }
   ],
   "source": [
    "acc1"
   ]
  },
  {
   "cell_type": "code",
   "execution_count": 17,
   "id": "ecdeda31",
   "metadata": {},
   "outputs": [
    {
     "data": {
      "text/plain": [
       "'Hello asaf! Your accaount balance is: 100'"
      ]
     },
     "execution_count": 17,
     "metadata": {},
     "output_type": "execute_result"
    }
   ],
   "source": [
    "str(acc1)"
   ]
  },
  {
   "cell_type": "code",
   "execution_count": 18,
   "id": "bf1d9aa6",
   "metadata": {},
   "outputs": [
    {
     "name": "stdout",
     "output_type": "stream",
     "text": [
      "Hello asaf! Your accaount balance is: 100\n"
     ]
    }
   ],
   "source": [
    "print(acc1)"
   ]
  },
  {
   "cell_type": "code",
   "execution_count": null,
   "id": "9fa07a59",
   "metadata": {},
   "outputs": [],
   "source": []
  }
 ],
 "metadata": {
  "kernelspec": {
   "display_name": "Python 3 (ipykernel)",
   "language": "python",
   "name": "python3"
  },
  "language_info": {
   "codemirror_mode": {
    "name": "ipython",
    "version": 3
   },
   "file_extension": ".py",
   "mimetype": "text/x-python",
   "name": "python",
   "nbconvert_exporter": "python",
   "pygments_lexer": "ipython3",
   "version": "3.11.5"
  }
 },
 "nbformat": 4,
 "nbformat_minor": 5
}
